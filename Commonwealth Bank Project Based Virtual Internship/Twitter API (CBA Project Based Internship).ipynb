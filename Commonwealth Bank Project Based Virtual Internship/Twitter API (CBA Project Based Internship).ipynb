{
 "cells": [
  {
   "cell_type": "code",
   "execution_count": 1,
   "metadata": {},
   "outputs": [],
   "source": [
    "import requests\n",
    "import pandas as pd\n",
    "import re\n",
    "from collections import Counter"
   ]
  },
  {
   "cell_type": "code",
   "execution_count": 3,
   "metadata": {},
   "outputs": [],
   "source": [
    "API_KEY = \"0ke0RQbIpKvPEq4Ad20xEcysF\"\n",
    "API_KEY_SECRET = \"D145HyZRk7NQTB8w3EYIMby3aItlSw5Ky2OQPabMx55FK2mPa1\"\n",
    "BEARER_TOKEN = \"AAAAAAAAAAAAAAAAAAAAADdawwEAAAAAOmsuai2I%2F1DV5r1e7r%2Bq%2BuVjU%2BM%3D5ktfB7ZZn74Yq5ABIivyDc63T1p2e5l75t7RaLj9SkwTY4xeBD\""
   ]
  },
  {
   "cell_type": "code",
   "execution_count": 6,
   "metadata": {},
   "outputs": [],
   "source": [
    "handle = \"CommBank\"\n",
    "url = f\"https://api.twitter.com/2/tweets/search/recent?query=from:{handle}&tweet.fields=created_at&expansions=author_id&user.fields=created_at\"\n",
    "headers = {\"Authorization\": f\"Bearer {BEARER_TOKEN}\"}"
   ]
  },
  {
   "cell_type": "code",
   "execution_count": 8,
   "metadata": {},
   "outputs": [
    {
     "name": "stdout",
     "output_type": "stream",
     "text": [
      "Created at: 2024-11-07T11:03:33.000Z, Tweet: @jeffbuckIeys Hi, thank you for your message, so we can assist you further could you please send me a DM so that I can collect more details to look into this for you. ^Anna\n",
      "Created at: 2024-11-07T10:27:52.000Z, Tweet: @CriticalNode Hi, thank you for your message, so we can assist you further could you please send me a DM so that I can collect more details to look into this for you. ^Anna\n",
      "Created at: 2024-11-07T03:40:24.000Z, Tweet: @LyckCarsten Hi Carsten. Sorry if you're experiencing duplicated transactions. To have this investigated for you, please contact us on 132221, visit a branch, or send a message through the CommBank app. If you still need assistance, please send me a DM so I can get more details. ^Don\n",
      "Created at: 2024-11-07T00:17:47.000Z, Tweet: @DavidLetto Hi David. Sorry for the long wait. I would like to see how I can best help if you currently need assistance. Please send me a DM so I can get more details and I will do my best to assist you. ^Don\n",
      "Created at: 2024-11-06T22:07:04.000Z, Tweet: @SlabberDan If you have any other enquiries or would like me to capture feedback on your behalf, please send me a PM so I can get more details. ^Don\n",
      "Created at: 2024-11-06T22:06:52.000Z, Tweet: @SlabberDan Hi Slabber. Interest in cryptocurrencies has been increasing and we’re seeing a growing number of customers losing funds to cryptocurrency scams. The below link provides more information on our changes to cryptocurrency and other payments:\n",
      "https://t.co/S4yG8l3zfc\n",
      "Created at: 2024-11-06T12:14:56.000Z, Tweet: @BlueMonkey9917 Thanks for confirming. Our messaging team will reply to you shortly and lodge a dispute for you. You can cancel the card and request a new one be sent to you. ^Christine\n",
      "Created at: 2024-11-06T12:08:22.000Z, Tweet: @BlueMonkey9917 Hello, Oh no I am sorry to hear this. Can you please confirm have you cancelled your card in the App or Netbank. Please send a DM and we can chat further. ^Christine\n",
      "Created at: 2024-11-06T11:29:32.000Z, Tweet: @ALIgatorJo Hi there, I'm sorry you've had this experience. That definitely isn't what we want. I would like to hear more. Would it be alright if I grabbed some details? Please DM me and we can talk there.'^Sy\n",
      "Created at: 2024-11-05T23:58:25.000Z, Tweet: @AhhSplendid Hi Nicole. Sorry you have yet to receive an expected email response. So I can best assist you, please send me a DM. ^Don\n"
     ]
    }
   ],
   "source": [
    "# Mengirim permintaan GET ke API Twitter\n",
    "response = requests.get(url, headers=headers)\n",
    "\n",
    "# Memeriksa apakah permintaan berhasil\n",
    "if response.status_code == 200:\n",
    "    data = response.json()\n",
    "    tweets = data.get(\"data\", [])\n",
    "    \n",
    "    # Menampilkan tweet terbaru yang berhasil diambil\n",
    "    for tweet in tweets:\n",
    "        print(f\"Created at: {tweet['created_at']}, Tweet: {tweet['text']}\")\n",
    "else:\n",
    "    print(f\"Error: {response.status_code}, {response.text}\")"
   ]
  }
 ],
 "metadata": {
  "kernelspec": {
   "display_name": "base",
   "language": "python",
   "name": "python3"
  },
  "language_info": {
   "codemirror_mode": {
    "name": "ipython",
    "version": 3
   },
   "file_extension": ".py",
   "mimetype": "text/x-python",
   "name": "python",
   "nbconvert_exporter": "python",
   "pygments_lexer": "ipython3",
   "version": "3.9.12"
  }
 },
 "nbformat": 4,
 "nbformat_minor": 2
}
